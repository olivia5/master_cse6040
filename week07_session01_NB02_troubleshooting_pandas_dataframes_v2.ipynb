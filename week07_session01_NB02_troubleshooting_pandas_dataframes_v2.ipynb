{
  "cells": [
    {
      "cell_type": "markdown",
      "metadata": {
        "id": "view-in-github",
        "colab_type": "text"
      },
      "source": [
        "<a href=\"https://colab.research.google.com/github/olivia5/master_cse6040/blob/main/week07_session01_NB02_troubleshooting_pandas_dataframes_v2.ipynb\" target=\"_parent\"><img src=\"https://colab.research.google.com/assets/colab-badge.svg\" alt=\"Open In Colab\"/></a>"
      ]
    },
    {
      "cell_type": "markdown",
      "id": "2df20b4c",
      "metadata": {
        "id": "2df20b4c"
      },
      "source": [
        "_Main topics covered during today's session:_\n",
        "\n",
        "Previous NB:\n",
        "\n",
        "1. **Pandas Functions:**\n",
        "    \n",
        "    a. Index operations\n",
        "    \n",
        "    b. Concat\n",
        "    \n",
        "    c. Merge\n",
        "    \n",
        "    d. Groupby and Aggregation\n",
        "\n",
        "This NB:\n",
        "\n",
        "2. **Troubleshooting pandas dataframes**"
      ]
    },
    {
      "cell_type": "code",
      "source": [
        "!wget https://raw.githubusercontent.com/gt-cse-6040/skills_oh_week_07/main/who3.csv\n",
        "!wget https://raw.githubusercontent.com/gt-cse-6040/skills_oh_week_07/main/who3_soln.csv"
      ],
      "metadata": {
        "id": "-a3tYQGH31bN",
        "outputId": "d435404c-f134-4b60-cb05-b1be1e5eec48",
        "colab": {
          "base_uri": "https://localhost:8080/"
        }
      },
      "id": "-a3tYQGH31bN",
      "execution_count": 2,
      "outputs": [
        {
          "output_type": "stream",
          "name": "stdout",
          "text": [
            "--2023-10-12 11:37:06--  https://raw.githubusercontent.com/gt-cse-6040/skills_oh_week_07/main/who3.csv\n",
            "Resolving raw.githubusercontent.com (raw.githubusercontent.com)... 185.199.108.133, 185.199.109.133, 185.199.110.133, ...\n",
            "Connecting to raw.githubusercontent.com (raw.githubusercontent.com)|185.199.108.133|:443... connected.\n",
            "HTTP request sent, awaiting response... 200 OK\n",
            "Length: 2676500 (2.6M) [text/plain]\n",
            "Saving to: ‘who3.csv’\n",
            "\n",
            "who3.csv            100%[===================>]   2.55M  --.-KB/s    in 0.04s   \n",
            "\n",
            "2023-10-12 11:37:06 (61.1 MB/s) - ‘who3.csv’ saved [2676500/2676500]\n",
            "\n",
            "--2023-10-12 11:37:07--  https://raw.githubusercontent.com/gt-cse-6040/skills_oh_week_07/main/who3_soln.csv\n",
            "Resolving raw.githubusercontent.com (raw.githubusercontent.com)... 185.199.111.133, 185.199.108.133, 185.199.109.133, ...\n",
            "Connecting to raw.githubusercontent.com (raw.githubusercontent.com)|185.199.111.133|:443... connected.\n",
            "HTTP request sent, awaiting response... 200 OK\n",
            "Length: 2600453 (2.5M) [text/plain]\n",
            "Saving to: ‘who3_soln.csv’\n",
            "\n",
            "who3_soln.csv       100%[===================>]   2.48M  --.-KB/s    in 0.06s   \n",
            "\n",
            "2023-10-12 11:37:07 (43.0 MB/s) - ‘who3_soln.csv’ saved [2600453/2600453]\n",
            "\n"
          ]
        }
      ]
    },
    {
      "cell_type": "markdown",
      "id": "b7866d34",
      "metadata": {
        "id": "b7866d34"
      },
      "source": [
        "*****************************************\n",
        "\n",
        "# Troubleshooting pandas dataframes\n",
        "\n",
        "*****************************************"
      ]
    },
    {
      "cell_type": "markdown",
      "id": "ea5d8b7b",
      "metadata": {
        "id": "ea5d8b7b"
      },
      "source": [
        "## What we want to do is show some techniques for troubleshooting when our dataframe does not match the solution dataframe."
      ]
    },
    {
      "cell_type": "markdown",
      "id": "e2379038",
      "metadata": {
        "id": "e2379038"
      },
      "source": [
        "*Steps for today:*\n",
        "\n",
        "1. We have the who3 and who3_soln dataframes, from Notebook 7.\n",
        "\n",
        "2.  We will make a copy of the who3 dataframe and manipulate it a little bit.\n",
        "\n",
        "3.  Also run the function to show that they are equivalent, at the start."
      ]
    },
    {
      "cell_type": "markdown",
      "id": "066065cc",
      "metadata": {
        "id": "066065cc"
      },
      "source": [
        "#### First, let's import the pandas library and define the functions.\n",
        "\n",
        "The two functions below, canonicalize_tibble() and tibbles_are_equivalent(), are from the Notebook 7 solution."
      ]
    },
    {
      "cell_type": "code",
      "execution_count": 3,
      "id": "2c7f0574",
      "metadata": {
        "id": "2c7f0574"
      },
      "outputs": [],
      "source": [
        "import pandas as pd"
      ]
    },
    {
      "cell_type": "markdown",
      "id": "bd9a1b52",
      "metadata": {
        "id": "bd9a1b52"
      },
      "source": [
        "### Remember that `Y` is in canonical order if it has the following properties.\n",
        "\n",
        "1. The variables appear in sorted order by name, ascending from left to right.\n",
        "2. The rows appear in lexicographically sorted order by variable, ascending from top to bottom.\n",
        "3. The row labels (`Y.index`) go from 0 to `n-1`, where `n` is the number of observations."
      ]
    },
    {
      "cell_type": "code",
      "execution_count": 1,
      "id": "8af58b2a",
      "metadata": {
        "id": "8af58b2a"
      },
      "outputs": [],
      "source": [
        "def canonicalize_tibble(X):\n",
        "    # Enforce Property 1:\n",
        "    var_names = sorted(X.columns)\n",
        "    Y = X[var_names].copy()\n",
        "\n",
        "    ### BEGIN SOLUTION\n",
        "    # Enforce Property 2:\n",
        "    Y.sort_values(by=var_names, inplace=True)\n",
        "\n",
        "    # Enforce Property 3:\n",
        "    Y.reset_index(drop=True, inplace=True)\n",
        "#     Y.sort_index(inplace=True)\n",
        "    ### END SOLUTION\n",
        "    return Y"
      ]
    },
    {
      "cell_type": "markdown",
      "id": "0fa26c8a",
      "metadata": {
        "id": "0fa26c8a"
      },
      "source": [
        "#### Below is the tibbles_are_equivalent() function. The testing function on the exams is similar to this one.\n",
        "\n",
        "#### However, there is one key difference between the two functions. It is that the testing code uses the Python function assert_frame_equal() to do the comparison. We will show how this works, and how you can use it in your debugging, below.\n",
        "\n",
        "Here is the link to the documentation page for the function:  https://pandas.pydata.org/pandas-docs/stable/reference/api/pandas.testing.assert_frame_equal.html\n"
      ]
    },
    {
      "cell_type": "code",
      "execution_count": 4,
      "id": "9e862330",
      "metadata": {
        "id": "9e862330"
      },
      "outputs": [],
      "source": [
        "def tibbles_are_equivalent(A, B):\n",
        "    \"\"\"Given two tidy tables ('tibbles'), returns True iff they are\n",
        "    equivalent.\n",
        "    \"\"\"\n",
        "    ### BEGIN SOLUTION\n",
        "    A_hat = canonicalize_tibble(A)\n",
        "    B_hat = canonicalize_tibble(B)\n",
        "    equal = (A_hat == B_hat)\n",
        "    return equal.all().all()\n",
        "    ### END SOLUTION"
      ]
    },
    {
      "cell_type": "code",
      "execution_count": 5,
      "id": "5dc4a57c",
      "metadata": {
        "id": "5dc4a57c"
      },
      "outputs": [],
      "source": [
        "# bring in the two dataframes to work with\n",
        "who3_soln = pd.read_csv('who3_soln.csv')\n",
        "who3 = pd.read_csv('who3.csv')"
      ]
    },
    {
      "cell_type": "markdown",
      "id": "58bfab90",
      "metadata": {
        "id": "58bfab90"
      },
      "source": [
        "#### Let's make a copy of our code output df to work with."
      ]
    },
    {
      "cell_type": "code",
      "execution_count": 6,
      "id": "b914386a",
      "metadata": {
        "id": "b914386a"
      },
      "outputs": [],
      "source": [
        "who3_skillsOH = who3.copy()"
      ]
    },
    {
      "cell_type": "markdown",
      "id": "9edb4f4d",
      "metadata": {
        "id": "9edb4f4d"
      },
      "source": [
        "### What are the checks that assert_all_equal() does?\n",
        "\n",
        "1. Checks for data types in the two dfs.\n",
        "2. Checks the number of rows and columns in the two dfs.\n",
        "3. Checks the column names in the two dfs.\n",
        "4. Finally, compares the actual data in the two dfs.\n",
        "\n",
        "#### Let's look at each one individually, and how to troubleshoot.\n",
        "\n",
        "#### You can use this Pandas function to do your testing and troubleshooting, and we provide the code below that you can copy and paste into your notebooks to troubleshoot."
      ]
    },
    {
      "cell_type": "code",
      "execution_count": 7,
      "id": "ee5cd82d",
      "metadata": {
        "id": "ee5cd82d"
      },
      "outputs": [],
      "source": [
        "def pandas_troubleshoot(a,b):  # pass in the two dfs to compare as variables a and b\n",
        "    from pandas.testing import assert_frame_equal\n",
        "\n",
        "    def canonicalize_tibble(X, remove_index=True):\n",
        "        var_names = sorted(X.columns)\n",
        "        Y = X[var_names].copy()\n",
        "        Y.sort_values(by=var_names, inplace=remove_index)\n",
        "        Y.reset_index(drop=remove_index, inplace=remove_index)\n",
        "        return Y\n",
        "\n",
        "    a_hat = canonicalize_tibble(a)\n",
        "    b_hat = canonicalize_tibble(b)\n",
        "    try:\n",
        "        assert_frame_equal(a_hat, b_hat, check_dtype=True,\n",
        "                           check_index_type='equiv', check_column_type='equiv',\n",
        "                           check_frame_type=True, check_names=True,\n",
        "                           by_blocks=False, check_exact=False,\n",
        "                           check_datetimelike_compat=False,\n",
        "                           check_categorical=True, check_like=False,\n",
        "                           check_freq=True, check_flags=True,\n",
        "                           rtol=1e-05, atol=1e-08, obj='DataFrame')\n",
        "        print('True')\n",
        "        return True\n",
        "    except AssertionError as e:\n",
        "        print(e)\n",
        "        return e"
      ]
    },
    {
      "cell_type": "markdown",
      "id": "639f6151",
      "metadata": {
        "id": "639f6151"
      },
      "source": [
        "### We will now set up 4 dataframes, that exercise the 4 types of tests that assert_all_equal() does. The changed dataframes will all be named for the type of change/test we are exercising.\n",
        "\n",
        "#### What we will do is change each df and run some code that shows you how to do individual checks for this test.\n",
        "\n",
        "#### Then we will show how you can do this using the assert_all_equal() function, and let it tell you what has failed."
      ]
    },
    {
      "cell_type": "markdown",
      "id": "8a69d12c",
      "metadata": {
        "id": "8a69d12c"
      },
      "source": [
        "#### First, we will change a datatype.\n",
        "\n",
        "https://www.geeksforgeeks.org/get-the-datatypes-of-columns-of-a-pandas-dataframe/"
      ]
    },
    {
      "cell_type": "code",
      "execution_count": 8,
      "id": "4883bb16",
      "metadata": {
        "id": "4883bb16"
      },
      "outputs": [],
      "source": [
        "who3_skillsOH_type = who3_skillsOH.copy()\n",
        "who3_skillsOH_type[\"count\"] = who3_skillsOH_type[\"count\"].astype(float)"
      ]
    },
    {
      "cell_type": "code",
      "execution_count": 9,
      "id": "e41a9242",
      "metadata": {
        "id": "e41a9242",
        "outputId": "07ac0832-4c0c-459c-b3d6-6873885d12d0",
        "colab": {
          "base_uri": "https://localhost:8080/",
          "height": 260
        }
      },
      "outputs": [
        {
          "output_type": "display_data",
          "data": {
            "text/plain": [
              "count        float64\n",
              "country       object\n",
              "year           int64\n",
              "age_group     object\n",
              "gender        object\n",
              "type          object\n",
              "dtype: object"
            ]
          },
          "metadata": {}
        },
        {
          "output_type": "display_data",
          "data": {
            "text/plain": [
              "count         int64\n",
              "country      object\n",
              "year          int64\n",
              "age_group    object\n",
              "gender       object\n",
              "type         object\n",
              "dtype: object"
            ]
          },
          "metadata": {}
        }
      ],
      "source": [
        "display(who3_skillsOH_type.dtypes)\n",
        "display(who3_soln.dtypes)"
      ]
    },
    {
      "cell_type": "markdown",
      "id": "01adac99",
      "metadata": {
        "id": "01adac99"
      },
      "source": [
        "#### Second, we change the number of rows in the dataframe.\n",
        "https://www.geeksforgeeks.org/count-the-number-of-rows-and-columns-of-pandas-dataframe/"
      ]
    },
    {
      "cell_type": "code",
      "execution_count": 10,
      "id": "cc533f0e",
      "metadata": {
        "id": "cc533f0e",
        "outputId": "f42a6519-f41e-47ac-e2a9-db362d4d9671",
        "colab": {
          "base_uri": "https://localhost:8080/"
        }
      },
      "outputs": [
        {
          "output_type": "stream",
          "name": "stdout",
          "text": [
            "   count  country  year age_group  gender type\n",
            "0      7  Albania  2006      0-14  female   ep\n",
            "1      1  Albania  2007      0-14  female   ep\n",
            "2      3  Albania  2008      0-14  female   ep\n",
            "3      2  Albania  2009      0-14  female   ep\n",
            "4      2  Albania  2010      0-14  female   ep\n",
            "   count  country  year age_group  gender type\n",
            "0      7  Albania  2006      0-14  female   ep\n",
            "1      1  Albania  2007      0-14  female   ep\n",
            "2      3  Albania  2008      0-14  female   ep\n",
            "3      2  Albania  2009      0-14  female   ep\n",
            "4      2  Albania  2010      0-14  female   ep\n"
          ]
        }
      ],
      "source": [
        "who3_skillsOH_drop = who3_skillsOH.copy()\n",
        "# Dropping last 10 rows using drop\n",
        "who3_skillsOH_drop.drop(who3_skillsOH_drop.tail(10).index,inplace = True)\n",
        "\n",
        "#note that printing the head() of the df does not tell you there is an error\n",
        "print(who3_skillsOH_drop.head())\n",
        "print(who3_soln.head())"
      ]
    },
    {
      "cell_type": "code",
      "execution_count": 11,
      "id": "878baf7d",
      "metadata": {
        "id": "878baf7d",
        "outputId": "dbcf348a-d2c8-4dd7-f7c3-f76595a130c7",
        "colab": {
          "base_uri": "https://localhost:8080/"
        }
      },
      "outputs": [
        {
          "output_type": "stream",
          "name": "stdout",
          "text": [
            "Rows OH: 76036\n",
            "Columns OH: 6\n",
            "Rows soln: 76046\n",
            "Columns soln: 6\n"
          ]
        }
      ],
      "source": [
        "# # fetching the number of rows and columns\n",
        "rows_OH = who3_skillsOH_drop.shape[0]\n",
        "cols_OH = who3_skillsOH_drop.shape[1]\n",
        "\n",
        "rows_soln = who3_soln.shape[0]\n",
        "cols_soln = who3_soln.shape[1]\n",
        "\n",
        "# displaying the number of rows and columns\n",
        "print(\"Rows OH: \" + str(rows_OH))\n",
        "print(\"Columns OH: \" + str(cols_OH))\n",
        "print(\"Rows soln: \" + str(rows_soln))\n",
        "print(\"Columns soln: \" + str(cols_soln))"
      ]
    },
    {
      "cell_type": "markdown",
      "id": "35f647bb",
      "metadata": {
        "id": "35f647bb"
      },
      "source": [
        "#### Third, we will change a couple of column names."
      ]
    },
    {
      "cell_type": "code",
      "execution_count": 12,
      "id": "64294e26",
      "metadata": {
        "id": "64294e26"
      },
      "outputs": [],
      "source": [
        "# # Change a couple of the column names in the new df, just to generate the error.\n",
        "who3_skillsOH_colname = who3_skillsOH.copy()\n",
        "who3_skillsOH_colname.rename(columns = {'country':'Country'}, inplace = True)\n",
        "who3_skillsOH_colname.rename(columns = {'age_group':'age-group'}, inplace = True)"
      ]
    },
    {
      "cell_type": "code",
      "execution_count": 13,
      "id": "40a76dba",
      "metadata": {
        "id": "40a76dba",
        "outputId": "120b0258-0a09-44ed-b822-775d28334d56",
        "colab": {
          "base_uri": "https://localhost:8080/"
        }
      },
      "outputs": [
        {
          "output_type": "stream",
          "name": "stdout",
          "text": [
            "Column names do not match\n",
            "My column name:  Country\n",
            "Soln column nm:  country\n",
            "Column names do not match\n",
            "My column name:  age-group\n",
            "Soln column nm:  age_group\n"
          ]
        }
      ],
      "source": [
        "my_list = who3_skillsOH_colname.columns.values.tolist()\n",
        "soln_list = who3_soln.columns.values.tolist()\n",
        "\n",
        "for i,col_name in enumerate(my_list):\n",
        "    if col_name != soln_list[i]:\n",
        "        print('Column names do not match')\n",
        "        print('My column name: ', col_name)\n",
        "        print('Soln column nm: ', soln_list[i])"
      ]
    },
    {
      "cell_type": "markdown",
      "id": "1f7d4366",
      "metadata": {
        "id": "1f7d4366"
      },
      "source": [
        "#### Finally, let's change some values in the df."
      ]
    },
    {
      "cell_type": "code",
      "execution_count": 14,
      "id": "dfde0f8f",
      "metadata": {
        "id": "dfde0f8f"
      },
      "outputs": [],
      "source": [
        "# # let's change a few values in our skillsOH dataframe\n",
        "who3_skillsOH_data = who3_skillsOH.copy()\n",
        "# # make some data changes\n",
        "who3_skillsOH_data.at[0, 'count'] = 6\n",
        "who3_skillsOH_data.at[1, 'count'] = 2\n",
        "who3_skillsOH_data.at[2, 'year'] = 2011\n",
        "who3_skillsOH_data.at[3, 'year'] = 2012"
      ]
    },
    {
      "cell_type": "code",
      "execution_count": 15,
      "id": "0817bb5e",
      "metadata": {
        "id": "0817bb5e",
        "outputId": "9be1b9a1-03cb-49ce-b203-ead65d4cb228",
        "colab": {
          "base_uri": "https://localhost:8080/",
          "height": 489
        }
      },
      "outputs": [
        {
          "output_type": "display_data",
          "data": {
            "text/plain": [
              "  count          year        \n",
              "   self other    self   other\n",
              "0   7.0   6.0     NaN     NaN\n",
              "1   1.0   2.0     NaN     NaN\n",
              "2   NaN   NaN  2008.0  2011.0\n",
              "3   NaN   NaN  2009.0  2012.0"
            ],
            "text/html": [
              "\n",
              "  <div id=\"df-fe5165b7-800c-47b0-8841-450c9bdc1fce\" class=\"colab-df-container\">\n",
              "    <div>\n",
              "<style scoped>\n",
              "    .dataframe tbody tr th:only-of-type {\n",
              "        vertical-align: middle;\n",
              "    }\n",
              "\n",
              "    .dataframe tbody tr th {\n",
              "        vertical-align: top;\n",
              "    }\n",
              "\n",
              "    .dataframe thead tr th {\n",
              "        text-align: left;\n",
              "    }\n",
              "</style>\n",
              "<table border=\"1\" class=\"dataframe\">\n",
              "  <thead>\n",
              "    <tr>\n",
              "      <th></th>\n",
              "      <th colspan=\"2\" halign=\"left\">count</th>\n",
              "      <th colspan=\"2\" halign=\"left\">year</th>\n",
              "    </tr>\n",
              "    <tr>\n",
              "      <th></th>\n",
              "      <th>self</th>\n",
              "      <th>other</th>\n",
              "      <th>self</th>\n",
              "      <th>other</th>\n",
              "    </tr>\n",
              "  </thead>\n",
              "  <tbody>\n",
              "    <tr>\n",
              "      <th>0</th>\n",
              "      <td>7.0</td>\n",
              "      <td>6.0</td>\n",
              "      <td>NaN</td>\n",
              "      <td>NaN</td>\n",
              "    </tr>\n",
              "    <tr>\n",
              "      <th>1</th>\n",
              "      <td>1.0</td>\n",
              "      <td>2.0</td>\n",
              "      <td>NaN</td>\n",
              "      <td>NaN</td>\n",
              "    </tr>\n",
              "    <tr>\n",
              "      <th>2</th>\n",
              "      <td>NaN</td>\n",
              "      <td>NaN</td>\n",
              "      <td>2008.0</td>\n",
              "      <td>2011.0</td>\n",
              "    </tr>\n",
              "    <tr>\n",
              "      <th>3</th>\n",
              "      <td>NaN</td>\n",
              "      <td>NaN</td>\n",
              "      <td>2009.0</td>\n",
              "      <td>2012.0</td>\n",
              "    </tr>\n",
              "  </tbody>\n",
              "</table>\n",
              "</div>\n",
              "    <div class=\"colab-df-buttons\">\n",
              "\n",
              "  <div class=\"colab-df-container\">\n",
              "    <button class=\"colab-df-convert\" onclick=\"convertToInteractive('df-fe5165b7-800c-47b0-8841-450c9bdc1fce')\"\n",
              "            title=\"Convert this dataframe to an interactive table.\"\n",
              "            style=\"display:none;\">\n",
              "\n",
              "  <svg xmlns=\"http://www.w3.org/2000/svg\" height=\"24px\" viewBox=\"0 -960 960 960\">\n",
              "    <path d=\"M120-120v-720h720v720H120Zm60-500h600v-160H180v160Zm220 220h160v-160H400v160Zm0 220h160v-160H400v160ZM180-400h160v-160H180v160Zm440 0h160v-160H620v160ZM180-180h160v-160H180v160Zm440 0h160v-160H620v160Z\"/>\n",
              "  </svg>\n",
              "    </button>\n",
              "\n",
              "  <style>\n",
              "    .colab-df-container {\n",
              "      display:flex;\n",
              "      gap: 12px;\n",
              "    }\n",
              "\n",
              "    .colab-df-convert {\n",
              "      background-color: #E8F0FE;\n",
              "      border: none;\n",
              "      border-radius: 50%;\n",
              "      cursor: pointer;\n",
              "      display: none;\n",
              "      fill: #1967D2;\n",
              "      height: 32px;\n",
              "      padding: 0 0 0 0;\n",
              "      width: 32px;\n",
              "    }\n",
              "\n",
              "    .colab-df-convert:hover {\n",
              "      background-color: #E2EBFA;\n",
              "      box-shadow: 0px 1px 2px rgba(60, 64, 67, 0.3), 0px 1px 3px 1px rgba(60, 64, 67, 0.15);\n",
              "      fill: #174EA6;\n",
              "    }\n",
              "\n",
              "    .colab-df-buttons div {\n",
              "      margin-bottom: 4px;\n",
              "    }\n",
              "\n",
              "    [theme=dark] .colab-df-convert {\n",
              "      background-color: #3B4455;\n",
              "      fill: #D2E3FC;\n",
              "    }\n",
              "\n",
              "    [theme=dark] .colab-df-convert:hover {\n",
              "      background-color: #434B5C;\n",
              "      box-shadow: 0px 1px 3px 1px rgba(0, 0, 0, 0.15);\n",
              "      filter: drop-shadow(0px 1px 2px rgba(0, 0, 0, 0.3));\n",
              "      fill: #FFFFFF;\n",
              "    }\n",
              "  </style>\n",
              "\n",
              "    <script>\n",
              "      const buttonEl =\n",
              "        document.querySelector('#df-fe5165b7-800c-47b0-8841-450c9bdc1fce button.colab-df-convert');\n",
              "      buttonEl.style.display =\n",
              "        google.colab.kernel.accessAllowed ? 'block' : 'none';\n",
              "\n",
              "      async function convertToInteractive(key) {\n",
              "        const element = document.querySelector('#df-fe5165b7-800c-47b0-8841-450c9bdc1fce');\n",
              "        const dataTable =\n",
              "          await google.colab.kernel.invokeFunction('convertToInteractive',\n",
              "                                                    [key], {});\n",
              "        if (!dataTable) return;\n",
              "\n",
              "        const docLinkHtml = 'Like what you see? Visit the ' +\n",
              "          '<a target=\"_blank\" href=https://colab.research.google.com/notebooks/data_table.ipynb>data table notebook</a>'\n",
              "          + ' to learn more about interactive tables.';\n",
              "        element.innerHTML = '';\n",
              "        dataTable['output_type'] = 'display_data';\n",
              "        await google.colab.output.renderOutput(dataTable, element);\n",
              "        const docLink = document.createElement('div');\n",
              "        docLink.innerHTML = docLinkHtml;\n",
              "        element.appendChild(docLink);\n",
              "      }\n",
              "    </script>\n",
              "  </div>\n",
              "\n",
              "\n",
              "<div id=\"df-56efb5cf-7117-4385-aaae-c157e90c547e\">\n",
              "  <button class=\"colab-df-quickchart\" onclick=\"quickchart('df-56efb5cf-7117-4385-aaae-c157e90c547e')\"\n",
              "            title=\"Suggest charts.\"\n",
              "            style=\"display:none;\">\n",
              "\n",
              "<svg xmlns=\"http://www.w3.org/2000/svg\" height=\"24px\"viewBox=\"0 0 24 24\"\n",
              "     width=\"24px\">\n",
              "    <g>\n",
              "        <path d=\"M19 3H5c-1.1 0-2 .9-2 2v14c0 1.1.9 2 2 2h14c1.1 0 2-.9 2-2V5c0-1.1-.9-2-2-2zM9 17H7v-7h2v7zm4 0h-2V7h2v10zm4 0h-2v-4h2v4z\"/>\n",
              "    </g>\n",
              "</svg>\n",
              "  </button>\n",
              "\n",
              "<style>\n",
              "  .colab-df-quickchart {\n",
              "      --bg-color: #E8F0FE;\n",
              "      --fill-color: #1967D2;\n",
              "      --hover-bg-color: #E2EBFA;\n",
              "      --hover-fill-color: #174EA6;\n",
              "      --disabled-fill-color: #AAA;\n",
              "      --disabled-bg-color: #DDD;\n",
              "  }\n",
              "\n",
              "  [theme=dark] .colab-df-quickchart {\n",
              "      --bg-color: #3B4455;\n",
              "      --fill-color: #D2E3FC;\n",
              "      --hover-bg-color: #434B5C;\n",
              "      --hover-fill-color: #FFFFFF;\n",
              "      --disabled-bg-color: #3B4455;\n",
              "      --disabled-fill-color: #666;\n",
              "  }\n",
              "\n",
              "  .colab-df-quickchart {\n",
              "    background-color: var(--bg-color);\n",
              "    border: none;\n",
              "    border-radius: 50%;\n",
              "    cursor: pointer;\n",
              "    display: none;\n",
              "    fill: var(--fill-color);\n",
              "    height: 32px;\n",
              "    padding: 0;\n",
              "    width: 32px;\n",
              "  }\n",
              "\n",
              "  .colab-df-quickchart:hover {\n",
              "    background-color: var(--hover-bg-color);\n",
              "    box-shadow: 0 1px 2px rgba(60, 64, 67, 0.3), 0 1px 3px 1px rgba(60, 64, 67, 0.15);\n",
              "    fill: var(--button-hover-fill-color);\n",
              "  }\n",
              "\n",
              "  .colab-df-quickchart-complete:disabled,\n",
              "  .colab-df-quickchart-complete:disabled:hover {\n",
              "    background-color: var(--disabled-bg-color);\n",
              "    fill: var(--disabled-fill-color);\n",
              "    box-shadow: none;\n",
              "  }\n",
              "\n",
              "  .colab-df-spinner {\n",
              "    border: 2px solid var(--fill-color);\n",
              "    border-color: transparent;\n",
              "    border-bottom-color: var(--fill-color);\n",
              "    animation:\n",
              "      spin 1s steps(1) infinite;\n",
              "  }\n",
              "\n",
              "  @keyframes spin {\n",
              "    0% {\n",
              "      border-color: transparent;\n",
              "      border-bottom-color: var(--fill-color);\n",
              "      border-left-color: var(--fill-color);\n",
              "    }\n",
              "    20% {\n",
              "      border-color: transparent;\n",
              "      border-left-color: var(--fill-color);\n",
              "      border-top-color: var(--fill-color);\n",
              "    }\n",
              "    30% {\n",
              "      border-color: transparent;\n",
              "      border-left-color: var(--fill-color);\n",
              "      border-top-color: var(--fill-color);\n",
              "      border-right-color: var(--fill-color);\n",
              "    }\n",
              "    40% {\n",
              "      border-color: transparent;\n",
              "      border-right-color: var(--fill-color);\n",
              "      border-top-color: var(--fill-color);\n",
              "    }\n",
              "    60% {\n",
              "      border-color: transparent;\n",
              "      border-right-color: var(--fill-color);\n",
              "    }\n",
              "    80% {\n",
              "      border-color: transparent;\n",
              "      border-right-color: var(--fill-color);\n",
              "      border-bottom-color: var(--fill-color);\n",
              "    }\n",
              "    90% {\n",
              "      border-color: transparent;\n",
              "      border-bottom-color: var(--fill-color);\n",
              "    }\n",
              "  }\n",
              "</style>\n",
              "\n",
              "  <script>\n",
              "    async function quickchart(key) {\n",
              "      const quickchartButtonEl =\n",
              "        document.querySelector('#' + key + ' button');\n",
              "      quickchartButtonEl.disabled = true;  // To prevent multiple clicks.\n",
              "      quickchartButtonEl.classList.add('colab-df-spinner');\n",
              "      try {\n",
              "        const charts = await google.colab.kernel.invokeFunction(\n",
              "            'suggestCharts', [key], {});\n",
              "      } catch (error) {\n",
              "        console.error('Error during call to suggestCharts:', error);\n",
              "      }\n",
              "      quickchartButtonEl.classList.remove('colab-df-spinner');\n",
              "      quickchartButtonEl.classList.add('colab-df-quickchart-complete');\n",
              "    }\n",
              "    (() => {\n",
              "      let quickchartButtonEl =\n",
              "        document.querySelector('#df-56efb5cf-7117-4385-aaae-c157e90c547e button');\n",
              "      quickchartButtonEl.style.display =\n",
              "        google.colab.kernel.accessAllowed ? 'block' : 'none';\n",
              "    })();\n",
              "  </script>\n",
              "</div>\n",
              "    </div>\n",
              "  </div>\n"
            ]
          },
          "metadata": {}
        },
        {
          "output_type": "display_data",
          "data": {
            "text/plain": [
              "         count    year\n",
              "0 self     7.0     NaN\n",
              "  other    6.0     NaN\n",
              "1 self     1.0     NaN\n",
              "  other    2.0     NaN\n",
              "2 self     NaN  2008.0\n",
              "  other    NaN  2011.0\n",
              "3 self     NaN  2009.0\n",
              "  other    NaN  2012.0"
            ],
            "text/html": [
              "\n",
              "  <div id=\"df-e0407bcc-1a2f-49f0-84b4-ef4e4f21201f\" class=\"colab-df-container\">\n",
              "    <div>\n",
              "<style scoped>\n",
              "    .dataframe tbody tr th:only-of-type {\n",
              "        vertical-align: middle;\n",
              "    }\n",
              "\n",
              "    .dataframe tbody tr th {\n",
              "        vertical-align: top;\n",
              "    }\n",
              "\n",
              "    .dataframe thead th {\n",
              "        text-align: right;\n",
              "    }\n",
              "</style>\n",
              "<table border=\"1\" class=\"dataframe\">\n",
              "  <thead>\n",
              "    <tr style=\"text-align: right;\">\n",
              "      <th></th>\n",
              "      <th></th>\n",
              "      <th>count</th>\n",
              "      <th>year</th>\n",
              "    </tr>\n",
              "  </thead>\n",
              "  <tbody>\n",
              "    <tr>\n",
              "      <th rowspan=\"2\" valign=\"top\">0</th>\n",
              "      <th>self</th>\n",
              "      <td>7.0</td>\n",
              "      <td>NaN</td>\n",
              "    </tr>\n",
              "    <tr>\n",
              "      <th>other</th>\n",
              "      <td>6.0</td>\n",
              "      <td>NaN</td>\n",
              "    </tr>\n",
              "    <tr>\n",
              "      <th rowspan=\"2\" valign=\"top\">1</th>\n",
              "      <th>self</th>\n",
              "      <td>1.0</td>\n",
              "      <td>NaN</td>\n",
              "    </tr>\n",
              "    <tr>\n",
              "      <th>other</th>\n",
              "      <td>2.0</td>\n",
              "      <td>NaN</td>\n",
              "    </tr>\n",
              "    <tr>\n",
              "      <th rowspan=\"2\" valign=\"top\">2</th>\n",
              "      <th>self</th>\n",
              "      <td>NaN</td>\n",
              "      <td>2008.0</td>\n",
              "    </tr>\n",
              "    <tr>\n",
              "      <th>other</th>\n",
              "      <td>NaN</td>\n",
              "      <td>2011.0</td>\n",
              "    </tr>\n",
              "    <tr>\n",
              "      <th rowspan=\"2\" valign=\"top\">3</th>\n",
              "      <th>self</th>\n",
              "      <td>NaN</td>\n",
              "      <td>2009.0</td>\n",
              "    </tr>\n",
              "    <tr>\n",
              "      <th>other</th>\n",
              "      <td>NaN</td>\n",
              "      <td>2012.0</td>\n",
              "    </tr>\n",
              "  </tbody>\n",
              "</table>\n",
              "</div>\n",
              "    <div class=\"colab-df-buttons\">\n",
              "\n",
              "  <div class=\"colab-df-container\">\n",
              "    <button class=\"colab-df-convert\" onclick=\"convertToInteractive('df-e0407bcc-1a2f-49f0-84b4-ef4e4f21201f')\"\n",
              "            title=\"Convert this dataframe to an interactive table.\"\n",
              "            style=\"display:none;\">\n",
              "\n",
              "  <svg xmlns=\"http://www.w3.org/2000/svg\" height=\"24px\" viewBox=\"0 -960 960 960\">\n",
              "    <path d=\"M120-120v-720h720v720H120Zm60-500h600v-160H180v160Zm220 220h160v-160H400v160Zm0 220h160v-160H400v160ZM180-400h160v-160H180v160Zm440 0h160v-160H620v160ZM180-180h160v-160H180v160Zm440 0h160v-160H620v160Z\"/>\n",
              "  </svg>\n",
              "    </button>\n",
              "\n",
              "  <style>\n",
              "    .colab-df-container {\n",
              "      display:flex;\n",
              "      gap: 12px;\n",
              "    }\n",
              "\n",
              "    .colab-df-convert {\n",
              "      background-color: #E8F0FE;\n",
              "      border: none;\n",
              "      border-radius: 50%;\n",
              "      cursor: pointer;\n",
              "      display: none;\n",
              "      fill: #1967D2;\n",
              "      height: 32px;\n",
              "      padding: 0 0 0 0;\n",
              "      width: 32px;\n",
              "    }\n",
              "\n",
              "    .colab-df-convert:hover {\n",
              "      background-color: #E2EBFA;\n",
              "      box-shadow: 0px 1px 2px rgba(60, 64, 67, 0.3), 0px 1px 3px 1px rgba(60, 64, 67, 0.15);\n",
              "      fill: #174EA6;\n",
              "    }\n",
              "\n",
              "    .colab-df-buttons div {\n",
              "      margin-bottom: 4px;\n",
              "    }\n",
              "\n",
              "    [theme=dark] .colab-df-convert {\n",
              "      background-color: #3B4455;\n",
              "      fill: #D2E3FC;\n",
              "    }\n",
              "\n",
              "    [theme=dark] .colab-df-convert:hover {\n",
              "      background-color: #434B5C;\n",
              "      box-shadow: 0px 1px 3px 1px rgba(0, 0, 0, 0.15);\n",
              "      filter: drop-shadow(0px 1px 2px rgba(0, 0, 0, 0.3));\n",
              "      fill: #FFFFFF;\n",
              "    }\n",
              "  </style>\n",
              "\n",
              "    <script>\n",
              "      const buttonEl =\n",
              "        document.querySelector('#df-e0407bcc-1a2f-49f0-84b4-ef4e4f21201f button.colab-df-convert');\n",
              "      buttonEl.style.display =\n",
              "        google.colab.kernel.accessAllowed ? 'block' : 'none';\n",
              "\n",
              "      async function convertToInteractive(key) {\n",
              "        const element = document.querySelector('#df-e0407bcc-1a2f-49f0-84b4-ef4e4f21201f');\n",
              "        const dataTable =\n",
              "          await google.colab.kernel.invokeFunction('convertToInteractive',\n",
              "                                                    [key], {});\n",
              "        if (!dataTable) return;\n",
              "\n",
              "        const docLinkHtml = 'Like what you see? Visit the ' +\n",
              "          '<a target=\"_blank\" href=https://colab.research.google.com/notebooks/data_table.ipynb>data table notebook</a>'\n",
              "          + ' to learn more about interactive tables.';\n",
              "        element.innerHTML = '';\n",
              "        dataTable['output_type'] = 'display_data';\n",
              "        await google.colab.output.renderOutput(dataTable, element);\n",
              "        const docLink = document.createElement('div');\n",
              "        docLink.innerHTML = docLinkHtml;\n",
              "        element.appendChild(docLink);\n",
              "      }\n",
              "    </script>\n",
              "  </div>\n",
              "\n",
              "\n",
              "<div id=\"df-1816386f-0638-468e-8fa0-fff6ff0998c7\">\n",
              "  <button class=\"colab-df-quickchart\" onclick=\"quickchart('df-1816386f-0638-468e-8fa0-fff6ff0998c7')\"\n",
              "            title=\"Suggest charts.\"\n",
              "            style=\"display:none;\">\n",
              "\n",
              "<svg xmlns=\"http://www.w3.org/2000/svg\" height=\"24px\"viewBox=\"0 0 24 24\"\n",
              "     width=\"24px\">\n",
              "    <g>\n",
              "        <path d=\"M19 3H5c-1.1 0-2 .9-2 2v14c0 1.1.9 2 2 2h14c1.1 0 2-.9 2-2V5c0-1.1-.9-2-2-2zM9 17H7v-7h2v7zm4 0h-2V7h2v10zm4 0h-2v-4h2v4z\"/>\n",
              "    </g>\n",
              "</svg>\n",
              "  </button>\n",
              "\n",
              "<style>\n",
              "  .colab-df-quickchart {\n",
              "      --bg-color: #E8F0FE;\n",
              "      --fill-color: #1967D2;\n",
              "      --hover-bg-color: #E2EBFA;\n",
              "      --hover-fill-color: #174EA6;\n",
              "      --disabled-fill-color: #AAA;\n",
              "      --disabled-bg-color: #DDD;\n",
              "  }\n",
              "\n",
              "  [theme=dark] .colab-df-quickchart {\n",
              "      --bg-color: #3B4455;\n",
              "      --fill-color: #D2E3FC;\n",
              "      --hover-bg-color: #434B5C;\n",
              "      --hover-fill-color: #FFFFFF;\n",
              "      --disabled-bg-color: #3B4455;\n",
              "      --disabled-fill-color: #666;\n",
              "  }\n",
              "\n",
              "  .colab-df-quickchart {\n",
              "    background-color: var(--bg-color);\n",
              "    border: none;\n",
              "    border-radius: 50%;\n",
              "    cursor: pointer;\n",
              "    display: none;\n",
              "    fill: var(--fill-color);\n",
              "    height: 32px;\n",
              "    padding: 0;\n",
              "    width: 32px;\n",
              "  }\n",
              "\n",
              "  .colab-df-quickchart:hover {\n",
              "    background-color: var(--hover-bg-color);\n",
              "    box-shadow: 0 1px 2px rgba(60, 64, 67, 0.3), 0 1px 3px 1px rgba(60, 64, 67, 0.15);\n",
              "    fill: var(--button-hover-fill-color);\n",
              "  }\n",
              "\n",
              "  .colab-df-quickchart-complete:disabled,\n",
              "  .colab-df-quickchart-complete:disabled:hover {\n",
              "    background-color: var(--disabled-bg-color);\n",
              "    fill: var(--disabled-fill-color);\n",
              "    box-shadow: none;\n",
              "  }\n",
              "\n",
              "  .colab-df-spinner {\n",
              "    border: 2px solid var(--fill-color);\n",
              "    border-color: transparent;\n",
              "    border-bottom-color: var(--fill-color);\n",
              "    animation:\n",
              "      spin 1s steps(1) infinite;\n",
              "  }\n",
              "\n",
              "  @keyframes spin {\n",
              "    0% {\n",
              "      border-color: transparent;\n",
              "      border-bottom-color: var(--fill-color);\n",
              "      border-left-color: var(--fill-color);\n",
              "    }\n",
              "    20% {\n",
              "      border-color: transparent;\n",
              "      border-left-color: var(--fill-color);\n",
              "      border-top-color: var(--fill-color);\n",
              "    }\n",
              "    30% {\n",
              "      border-color: transparent;\n",
              "      border-left-color: var(--fill-color);\n",
              "      border-top-color: var(--fill-color);\n",
              "      border-right-color: var(--fill-color);\n",
              "    }\n",
              "    40% {\n",
              "      border-color: transparent;\n",
              "      border-right-color: var(--fill-color);\n",
              "      border-top-color: var(--fill-color);\n",
              "    }\n",
              "    60% {\n",
              "      border-color: transparent;\n",
              "      border-right-color: var(--fill-color);\n",
              "    }\n",
              "    80% {\n",
              "      border-color: transparent;\n",
              "      border-right-color: var(--fill-color);\n",
              "      border-bottom-color: var(--fill-color);\n",
              "    }\n",
              "    90% {\n",
              "      border-color: transparent;\n",
              "      border-bottom-color: var(--fill-color);\n",
              "    }\n",
              "  }\n",
              "</style>\n",
              "\n",
              "  <script>\n",
              "    async function quickchart(key) {\n",
              "      const quickchartButtonEl =\n",
              "        document.querySelector('#' + key + ' button');\n",
              "      quickchartButtonEl.disabled = true;  // To prevent multiple clicks.\n",
              "      quickchartButtonEl.classList.add('colab-df-spinner');\n",
              "      try {\n",
              "        const charts = await google.colab.kernel.invokeFunction(\n",
              "            'suggestCharts', [key], {});\n",
              "      } catch (error) {\n",
              "        console.error('Error during call to suggestCharts:', error);\n",
              "      }\n",
              "      quickchartButtonEl.classList.remove('colab-df-spinner');\n",
              "      quickchartButtonEl.classList.add('colab-df-quickchart-complete');\n",
              "    }\n",
              "    (() => {\n",
              "      let quickchartButtonEl =\n",
              "        document.querySelector('#df-1816386f-0638-468e-8fa0-fff6ff0998c7 button');\n",
              "      quickchartButtonEl.style.display =\n",
              "        google.colab.kernel.accessAllowed ? 'block' : 'none';\n",
              "    })();\n",
              "  </script>\n",
              "</div>\n",
              "    </div>\n",
              "  </div>\n"
            ]
          },
          "metadata": {}
        }
      ],
      "source": [
        "# # note that the \"self\" df is the df that we are running compare on\n",
        "# # and the \"other\" df is the one in the parenthesis (we are comparing to)\n",
        "display(who3_soln.compare(who3_skillsOH_data))\n",
        "\n",
        "# # align the differences on rows, just a different way of looking at the comparison\n",
        "display(who3_soln.compare(who3_skillsOH_data,align_axis=0))"
      ]
    },
    {
      "cell_type": "markdown",
      "id": "130c88c6",
      "metadata": {
        "id": "130c88c6"
      },
      "source": [
        "### Now let's use our pandas_troubleshoot() function to figure out what the error is."
      ]
    },
    {
      "cell_type": "code",
      "execution_count": 16,
      "id": "1b5d24ce",
      "metadata": {
        "id": "1b5d24ce",
        "outputId": "e44a981e-045e-40c9-b73b-583b775bef80",
        "colab": {
          "base_uri": "https://localhost:8080/"
        }
      },
      "outputs": [
        {
          "output_type": "stream",
          "name": "stdout",
          "text": [
            "Attributes of DataFrame.iloc[:, 1] (column name=\"count\") are different\n",
            "\n",
            "Attribute \"dtype\" are different\n",
            "[left]:  float64\n",
            "[right]: int64\n"
          ]
        },
        {
          "output_type": "execute_result",
          "data": {
            "text/plain": [
              "AssertionError('Attributes of DataFrame.iloc[:, 1] (column name=\"count\") are different\\n\\nAttribute \"dtype\" are different\\n[left]:  float64\\n[right]: int64')"
            ]
          },
          "metadata": {},
          "execution_count": 16
        }
      ],
      "source": [
        "a,b = who3_skillsOH_type,who3_soln   # data type differences of columns\n",
        "result = pandas_troubleshoot(a,b)\n",
        "result"
      ]
    },
    {
      "cell_type": "code",
      "execution_count": 17,
      "id": "27f83c0f",
      "metadata": {
        "id": "27f83c0f",
        "outputId": "f2bea287-2b3d-46f1-b968-661c50bcf382",
        "colab": {
          "base_uri": "https://localhost:8080/"
        }
      },
      "outputs": [
        {
          "output_type": "stream",
          "name": "stdout",
          "text": [
            "DataFrame.columns are different\n",
            "\n",
            "DataFrame.columns values are different (50.0 %)\n",
            "[left]:  Index(['Country', 'age-group', 'count', 'gender', 'type', 'year'], dtype='object')\n",
            "[right]: Index(['age_group', 'count', 'country', 'gender', 'type', 'year'], dtype='object')\n"
          ]
        },
        {
          "output_type": "execute_result",
          "data": {
            "text/plain": [
              "AssertionError(\"DataFrame.columns are different\\n\\nDataFrame.columns values are different (50.0 %)\\n[left]:  Index(['Country', 'age-group', 'count', 'gender', 'type', 'year'], dtype='object')\\n[right]: Index(['age_group', 'count', 'country', 'gender', 'type', 'year'], dtype='object')\")"
            ]
          },
          "metadata": {},
          "execution_count": 17
        }
      ],
      "source": [
        "a,b = who3_skillsOH_colname,who3_soln   # column names different\n",
        "result = pandas_troubleshoot(a,b)\n",
        "result"
      ]
    },
    {
      "cell_type": "code",
      "execution_count": 18,
      "id": "8bac7cf6",
      "metadata": {
        "id": "8bac7cf6",
        "outputId": "1df5889f-9b38-41ae-9dad-6c107b589543",
        "colab": {
          "base_uri": "https://localhost:8080/"
        }
      },
      "outputs": [
        {
          "output_type": "stream",
          "name": "stdout",
          "text": [
            "DataFrame are different\n",
            "\n",
            "DataFrame shape mismatch\n",
            "[left]:  (76036, 6)\n",
            "[right]: (76046, 6)\n"
          ]
        },
        {
          "output_type": "execute_result",
          "data": {
            "text/plain": [
              "AssertionError('DataFrame are different\\n\\nDataFrame shape mismatch\\n[left]:  (76036, 6)\\n[right]: (76046, 6)')"
            ]
          },
          "metadata": {},
          "execution_count": 18
        }
      ],
      "source": [
        "a,b = who3_skillsOH_drop,who3_soln   # differences in the number of rows of data\n",
        "result = pandas_troubleshoot(a,b)\n",
        "result"
      ]
    },
    {
      "cell_type": "code",
      "execution_count": 19,
      "id": "b026583c",
      "metadata": {
        "id": "b026583c",
        "outputId": "954e65fb-1676-4283-95e0-3f6d033dc4e7",
        "colab": {
          "base_uri": "https://localhost:8080/"
        }
      },
      "outputs": [
        {
          "output_type": "stream",
          "name": "stdout",
          "text": [
            "DataFrame.iloc[:, 1] (column name=\"count\") are different\n",
            "\n",
            "DataFrame.iloc[:, 1] (column name=\"count\") values are different (0.00263 %)\n",
            "[index]: [0, 1, 2, 3, 4, 5, 6, 7, 8, 9, 10, 11, 12, 13, 14, 15, 16, 17, 18, 19, 20, 21, 22, 23, 24, 25, 26, 27, 28, 29, 30, 31, 32, 33, 34, 35, 36, 37, 38, 39, 40, 41, 42, 43, 44, 45, 46, 47, 48, 49, 50, 51, 52, 53, 54, 55, 56, 57, 58, 59, 60, 61, 62, 63, 64, 65, 66, 67, 68, 69, 70, 71, 72, 73, 74, 75, 76, 77, 78, 79, 80, 81, 82, 83, 84, 85, 86, 87, 88, 89, 90, 91, 92, 93, 94, 95, 96, 97, 98, 99, ...]\n",
            "[left]:  [0, 0, 0, 0, 0, 0, 0, 0, 0, 0, 0, 0, 0, 0, 0, 0, 0, 0, 0, 0, 0, 0, 0, 0, 0, 0, 0, 0, 0, 0, 0, 0, 0, 0, 0, 0, 0, 0, 0, 0, 0, 0, 0, 0, 0, 0, 0, 0, 0, 0, 0, 0, 0, 0, 0, 0, 0, 0, 0, 0, 0, 0, 0, 0, 0, 0, 0, 0, 0, 0, 0, 0, 0, 0, 0, 0, 0, 0, 0, 0, 0, 0, 0, 0, 0, 0, 0, 0, 0, 0, 0, 0, 0, 0, 0, 0, 0, 0, 0, 0, ...]\n",
            "[right]: [0, 0, 0, 0, 0, 0, 0, 0, 0, 0, 0, 0, 0, 0, 0, 0, 0, 0, 0, 0, 0, 0, 0, 0, 0, 0, 0, 0, 0, 0, 0, 0, 0, 0, 0, 0, 0, 0, 0, 0, 0, 0, 0, 0, 0, 0, 0, 0, 0, 0, 0, 0, 0, 0, 0, 0, 0, 0, 0, 0, 0, 0, 0, 0, 0, 0, 0, 0, 0, 0, 0, 0, 0, 0, 0, 0, 0, 0, 0, 0, 0, 0, 0, 0, 0, 0, 0, 0, 0, 0, 0, 0, 0, 0, 0, 0, 0, 0, 0, 0, ...]\n"
          ]
        },
        {
          "output_type": "execute_result",
          "data": {
            "text/plain": [
              "AssertionError('DataFrame.iloc[:, 1] (column name=\"count\") are different\\n\\nDataFrame.iloc[:, 1] (column name=\"count\") values are different (0.00263 %)\\n[index]: [0, 1, 2, 3, 4, 5, 6, 7, 8, 9, 10, 11, 12, 13, 14, 15, 16, 17, 18, 19, 20, 21, 22, 23, 24, 25, 26, 27, 28, 29, 30, 31, 32, 33, 34, 35, 36, 37, 38, 39, 40, 41, 42, 43, 44, 45, 46, 47, 48, 49, 50, 51, 52, 53, 54, 55, 56, 57, 58, 59, 60, 61, 62, 63, 64, 65, 66, 67, 68, 69, 70, 71, 72, 73, 74, 75, 76, 77, 78, 79, 80, 81, 82, 83, 84, 85, 86, 87, 88, 89, 90, 91, 92, 93, 94, 95, 96, 97, 98, 99, ...]\\n[left]:  [0, 0, 0, 0, 0, 0, 0, 0, 0, 0, 0, 0, 0, 0, 0, 0, 0, 0, 0, 0, 0, 0, 0, 0, 0, 0, 0, 0, 0, 0, 0, 0, 0, 0, 0, 0, 0, 0, 0, 0, 0, 0, 0, 0, 0, 0, 0, 0, 0, 0, 0, 0, 0, 0, 0, 0, 0, 0, 0, 0, 0, 0, 0, 0, 0, 0, 0, 0, 0, 0, 0, 0, 0, 0, 0, 0, 0, 0, 0, 0, 0, 0, 0, 0, 0, 0, 0, 0, 0, 0, 0, 0, 0, 0, 0, 0, 0, 0, 0, 0, ...]\\n[right]: [0, 0, 0, 0, 0, 0, 0, 0, 0, 0, 0, 0, 0, 0, 0, 0, 0, 0, 0, 0, 0, 0, 0, 0, 0, 0, 0, 0, 0, 0, 0, 0, 0, 0, 0, 0, 0, 0, 0, 0, 0, 0, 0, 0, 0, 0, 0, 0, 0, 0, 0, 0, 0, 0, 0, 0, 0, 0, 0, 0, 0, 0, 0, 0, 0, 0, 0, 0, 0, 0, 0, 0, 0, 0, 0, 0, 0, 0, 0, 0, 0, 0, 0, 0, 0, 0, 0, 0, 0, 0, 0, 0, 0, 0, 0, 0, 0, 0, 0, 0, ...]')"
            ]
          },
          "metadata": {},
          "execution_count": 19
        }
      ],
      "source": [
        "a,b = who3_skillsOH_data,who3_soln   # data differences\n",
        "result = pandas_troubleshoot(a,b)\n",
        "result\n",
        "\n",
        "# Notice that we changed \"count\" and \"year\" above, but the error only returns for \"count\".\n",
        "# The function returns the first column with errors, and you may need to run this multiple\n",
        "# times, if you have multiple columns with data errors."
      ]
    },
    {
      "cell_type": "code",
      "execution_count": 19,
      "id": "7012b4c1",
      "metadata": {
        "id": "7012b4c1"
      },
      "outputs": [],
      "source": []
    },
    {
      "cell_type": "code",
      "execution_count": 19,
      "id": "b30faa23",
      "metadata": {
        "id": "b30faa23"
      },
      "outputs": [],
      "source": []
    },
    {
      "cell_type": "code",
      "execution_count": 19,
      "id": "b4e3a9d4",
      "metadata": {
        "id": "b4e3a9d4"
      },
      "outputs": [],
      "source": []
    }
  ],
  "metadata": {
    "kernelspec": {
      "display_name": "Python 3 (ipykernel)",
      "language": "python",
      "name": "python3"
    },
    "language_info": {
      "codemirror_mode": {
        "name": "ipython",
        "version": 3
      },
      "file_extension": ".py",
      "mimetype": "text/x-python",
      "name": "python",
      "nbconvert_exporter": "python",
      "pygments_lexer": "ipython3",
      "version": "3.9.13"
    },
    "colab": {
      "provenance": [],
      "include_colab_link": true
    }
  },
  "nbformat": 4,
  "nbformat_minor": 5
}